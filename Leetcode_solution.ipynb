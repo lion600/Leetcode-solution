{
 "cells": [
  {
   "cell_type": "markdown",
   "id": "3dc83439",
   "metadata": {},
   "source": [
    "Merge Strings Alternately\n",
    "Input: word1 = \"abc\", word2 = \"pqr\"\n",
    "Output: \"apbqcr\"\n",
    "Explanation: The merged string will be merged as so:\n",
    "word1:  a   b   c\n",
    "word2:    p   q   r\n",
    "merged: a p b q c r"
   ]
  },
  {
   "cell_type": "code",
   "execution_count": null,
   "id": "3db509d6",
   "metadata": {},
   "outputs": [],
   "source": [
    "class Solution:\n",
    "    def mergeAlternately(self, word1: str, word2: str) -> str:\n",
    "        merged = \"\"\n",
    "        for i in range(max(len(word1), len(word2))):\n",
    "            if i < len(word1):\n",
    "                 merged += word1[i]\n",
    "            if i < len(word2):\n",
    "                 merged += word2[i]\n",
    "\n",
    "        return merged   "
   ]
  },
  {
   "cell_type": "markdown",
   "id": "757be5b9",
   "metadata": {},
   "source": [
    "Find the Difference\n",
    "Input: s = \"abcd\", t = \"abcde\"\n",
    "Output: \"e\"\n",
    "Explanation: 'e' is the letter that was added."
   ]
  },
  {
   "cell_type": "code",
   "execution_count": null,
   "id": "5544a89a",
   "metadata": {},
   "outputs": [],
   "source": [
    "class Solution:\n",
    "    def findTheDifference(self, s: str, t: str) -> str:\n",
    "        s=sorted(s)\n",
    "        t=sorted(t)\n",
    "        i=0\n",
    "        j=0\n",
    "        while i<len(s) and j<len(t):\n",
    "            if s[i]!=t[j]:\n",
    "                return t[j]\n",
    "            i+=1\n",
    "            j+=1\n",
    "        \n",
    "        return t[-1]"
   ]
  },
  {
   "cell_type": "markdown",
   "id": "ccb1ac75",
   "metadata": {},
   "source": [
    "Given two strings needle and haystack, return the index of the first occurrence of needle in haystack, or -1 if needle is not part of haystack.\n",
    "Input: haystack = \"sadbutsad\", needle = \"sad\"\n",
    "Output: 0\n",
    "Explanation: \"sad\" occurs at index 0 and 6.\n",
    "The first occurrence is at index 0, so we return 0."
   ]
  },
  {
   "cell_type": "code",
   "execution_count": null,
   "id": "47f34e3e",
   "metadata": {},
   "outputs": [],
   "source": [
    "class Solution:\n",
    "    def strStr(self, haystack: str, needle: str) -> int:\n",
    "        for i in range(len(haystack) - len(needle) + 1):\n",
    "            if haystack[i:i + len(needle)] == needle:\n",
    "                return i\n",
    "        return -1 "
   ]
  },
  {
   "cell_type": "markdown",
   "id": "eb971c75",
   "metadata": {},
   "source": [
    "Given two strings s and t, return true if t is an anagram of s, and false otherwise.\n",
    "\n",
    "An Anagram is a word or phrase formed by rearranging the letters of a different word or phrase, typically using all the original letters exactly once."
   ]
  },
  {
   "cell_type": "code",
   "execution_count": null,
   "id": "8556de43",
   "metadata": {},
   "outputs": [],
   "source": [
    "class Solution:\n",
    "    def isAnagram(self, s: str, t: str) -> bool:\n",
    "        \n",
    "        if sorted(s) == sorted(t):\n",
    "            return True\n",
    "        else:\n",
    "            return False"
   ]
  }
 ],
 "metadata": {
  "kernelspec": {
   "display_name": "Python 3 (ipykernel)",
   "language": "python",
   "name": "python3"
  },
  "language_info": {
   "codemirror_mode": {
    "name": "ipython",
    "version": 3
   },
   "file_extension": ".py",
   "mimetype": "text/x-python",
   "name": "python",
   "nbconvert_exporter": "python",
   "pygments_lexer": "ipython3",
   "version": "3.11.5"
  }
 },
 "nbformat": 4,
 "nbformat_minor": 5
}
